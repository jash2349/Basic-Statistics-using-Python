{
 "cells": [
  {
   "cell_type": "code",
   "execution_count": 1,
   "metadata": {},
   "outputs": [],
   "source": [
    "# If we took a discrete uniform distribution, probability of any outcome was 1/n for any outcome, \n",
    "# however for a continous distribution, our data can not be divided in discrete components, for example weighing an object. \n",
    "#With perfect precision on weight, the data can take on any value between two points(e.g 5.4 grams,5.423 grams, 5.42322 grams)\n",
    "\n",
    "#This means that our n possible values from the discrete uniform distribution is going towards infinity, \n",
    "#thus the probability of any individual outcome for a continous distribution is 1/∞ ,technically undefined or zero \n",
    "#if we take the limit to infinity. \n",
    "#Thus we can only take probability measurements of ranges of values, and not just a specific point. "
   ]
  },
  {
   "cell_type": "code",
   "execution_count": 2,
   "metadata": {},
   "outputs": [],
   "source": [
    "#A continous random variable X with a probability density function is a continous uniform random variable when:\n",
    "\n",
    "#f(x)=1/(b−a) , where a<=x<=b\n",
    "\n",
    "# For a discrete uniform distribution the f(x)=1/n but in the continous case we don't have a specific n possibilities, \n",
    "#we have a range from the min (a) to the max (b)!\n",
    "\n",
    "#The mean is simply the average of the min and max:\n",
    "\n",
    "#mean = (a+b)/2\n",
    "\n",
    "#The variance is defined as:\n",
    "\n",
    "#σ^2 = ((b−a)^2)/12"
   ]
  },
  {
   "cell_type": "code",
   "execution_count": 4,
   "metadata": {},
   "outputs": [],
   "source": [
    "# Let's say on average, a taxi ride in NYC takes 22 minutes. After taking some time measurements from experiments \n",
    "# we gather that all the taxi rides are uniformly distributed between 17 and 29 minutes. \n",
    "# What is the probability density function of a taxi ride, or f(x)?"
   ]
  },
  {
   "cell_type": "code",
   "execution_count": 10,
   "metadata": {},
   "outputs": [
    {
     "name": "stdout",
     "output_type": "stream",
     "text": [
      "The probability density function results in 0.083\n"
     ]
    }
   ],
   "source": [
    "#Let's solve this with python\n",
    "\n",
    "#Lower bound time\n",
    "a = 17\n",
    "\n",
    "#Upper bound time\n",
    "b = 29\n",
    "\n",
    "#Then using our probability density function we get\n",
    "fx = 1.0/(b-a)\n",
    "\n",
    "#show \n",
    "print 'The probability density function results in %1.3f' %fx"
   ]
  },
  {
   "cell_type": "code",
   "execution_count": 11,
   "metadata": {},
   "outputs": [
    {
     "name": "stdout",
     "output_type": "stream",
     "text": [
      "The variance of the continous unifrom distribution is 12.0\n"
     ]
    }
   ],
   "source": [
    "#We can also get the variance \n",
    "\n",
    "var = ((b-a)**2 )/12\n",
    "\n",
    "#Display \n",
    "print 'The variance of the continous unifrom distribution is %1.1f' %var"
   ]
  },
  {
   "cell_type": "code",
   "execution_count": 12,
   "metadata": {},
   "outputs": [],
   "source": [
    "# What's the probability that the taxi ride will last at least 25 minutes?"
   ]
  },
  {
   "cell_type": "code",
   "execution_count": 13,
   "metadata": {},
   "outputs": [
    {
     "name": "stdout",
     "output_type": "stream",
     "text": [
      " The probability that the taxi ride will last at least 25 minutes is 16.7%\n"
     ]
    }
   ],
   "source": [
    "# This is the same as the PDF of f(27) (the entire space) minus the probability space less than 25 minutes.\n",
    "\n",
    "#f(27)\n",
    "fx_1 = 27.0/(b-a)\n",
    "\n",
    "#f(25)\n",
    "fx_2 = 25.0/(b-a)\n",
    "\n",
    "#Our answer is then\n",
    "ans = fx_1-fx_2\n",
    "\n",
    "#print\n",
    "print ' The probability that the taxi ride will last at least 25 minutes is %2.1f%%' %(100*ans)"
   ]
  },
  {
   "cell_type": "code",
   "execution_count": 16,
   "metadata": {},
   "outputs": [
    {
     "data": {
      "text/plain": [
       "[<matplotlib.lines.Line2D at 0xc2f37b8>]"
      ]
     },
     "execution_count": 16,
     "metadata": {},
     "output_type": "execute_result"
    },
    {
     "data": {
      "image/png": "[encoded data removed]",
      "text/plain": [
       "<Figure size 432x288 with 1 Axes>"
      ]
     },
     "metadata": {
      "needs_background": "light"
     },
     "output_type": "display_data"
    }
   ],
   "source": [
    "# Import the following\n",
    "import numpy as np\n",
    "from numpy.random import randn\n",
    "import pandas as pd\n",
    "from scipy import stats\n",
    "import matplotlib as mpl\n",
    "import matplotlib.pyplot as plt\n",
    "import seaborn as sns\n",
    "from __future__ import division\n",
    "%matplotlib inline\n",
    "from scipy.stats import uniform\n",
    "import numpy as np\n",
    "\n",
    "#Let's set an A and B\n",
    "A=17\n",
    "B=29\n",
    "\n",
    "# Set x as 100 linearly spaced points between A and B\n",
    "x = np.linspace(A,B,100)\n",
    "\n",
    "# Use uniform(loc=start point,scale=endpoint)\n",
    "rv = uniform(loc=A,scale=B)\n",
    "\n",
    "#Plot the PDF of that uniform distirbution\n",
    "plt.plot(x,rv.pdf(x))"
   ]
  },
  {
   "cell_type": "code",
   "execution_count": null,
   "metadata": {},
   "outputs": [],
   "source": []
  }
 ],
 "metadata": {
  "kernelspec": {
   "display_name": "Python 2",
   "language": "python",
   "name": "python2"
  },
  "language_info": {
   "codemirror_mode": {
    "name": "ipython",
    "version": 2
   },
   "file_extension": ".py",
   "mimetype": "text/x-python",
   "name": "python",
   "nbconvert_exporter": "python",
   "pygments_lexer": "ipython2",
   "version": "2.7.16"
  }
 },
 "nbformat": 4,
 "nbformat_minor": 2
}
