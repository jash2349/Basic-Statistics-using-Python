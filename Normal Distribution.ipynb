{
 "cells": [
  {
   "cell_type": "code",
   "execution_count": 1,
   "metadata": {},
   "outputs": [],
   "source": [
    "#The distribution is defined by the probability density function equation:\n",
    "\n",
    "#f(x,μ,σ) = (1/ σ√2π) * e^(−1/2z^2)\n",
    "\n",
    "#Where: z=(X−μ)/σ\n",
    "#where: μ=mean , σ=standard deviation , π=3.14... , e=2.718... \n",
    "#The total area bounded by curve of the probability density function equation and the X axis is 1; \n",
    "#thus the area under the curve between two ordinates X=a and X=b, where a<b, \n",
    "#represents the probability that X lies between a and b. This probability can be expressed as:\n",
    "#Pr(a<X<b)\n",
    "\n",
    "#Let's look at the curve. The normal distribution has several characteristics:\n",
    "\n",
    "#1.) It has a lower tail (on the left) and an upper tail (on the right)\n",
    "#2.) The curve is symmetric (for the theoretical distribution)\n",
    "#3.) The peak occurs at the mean.\n",
    "#4.) The standard deviation gives the curve a different shape:\n",
    "#    -Narrow and tall for a smaller standard deviation.\n",
    "#    -Shallower and fatter for a larger standard deviation.\n",
    "#5.) The area under the curve is equal to 1 (the total probaility space)\n",
    "#6.) The mean=median=mode.\n",
    "\n",
    "#For the normal distribution, we can see what percentage of values lie between +/- a standard deviation. \n",
    "#68% of the values lie within 1 TSD, 95% between 2 STDs, and 99.7% between 3 STDs. \n",
    "#The number of standard deviations is also called the z-score, which we saw above in the PDF."
   ]
  },
  {
   "cell_type": "code",
   "execution_count": 2,
   "metadata": {},
   "outputs": [
    {
     "data": {
      "text/html": [
       "<img src=\"http://upload.wikimedia.org/wikipedia/commons/thumb/2/25/The_Normal_Distribution.svg/725px-The_Normal_Distribution.svg.png\"/>"
      ],
      "text/plain": [
       "<IPython.core.display.Image object>"
      ]
     },
     "execution_count": 2,
     "metadata": {},
     "output_type": "execute_result"
    }
   ],
   "source": [
    "from IPython.display import Image\n",
    "Image(url='http://upload.wikimedia.org/wikipedia/commons/thumb/2/25/The_Normal_Distribution.svg/725px-The_Normal_Distribution.svg.png')\n"
   ]
  },
  {
   "cell_type": "code",
   "execution_count": 9,
   "metadata": {},
   "outputs": [
    {
     "data": {
      "text/plain": [
       "[<matplotlib.lines.Line2D at 0xd1ead30>]"
      ]
     },
     "execution_count": 9,
     "metadata": {},
     "output_type": "execute_result"
    },
    {
     "data": {
      "image/png": "[encoded data removed]",
      "text/plain": [
       "<Figure size 432x288 with 1 Axes>"
      ]
     },
     "metadata": {
      "needs_background": "light"
     },
     "output_type": "display_data"
    }
   ],
   "source": [
    "#Import\n",
    "import numpy as np\n",
    "import matplotlib as mpl\n",
    "import matplotlib.pyplot as plt\n",
    "%matplotlib inline\n",
    "\n",
    "#Import the stats library\n",
    "from scipy import stats\n",
    "\n",
    "# Set the mean\n",
    "mean = 0\n",
    "\n",
    "#Set the standard deviation\n",
    "std = 1\n",
    "\n",
    "\n",
    "# Create a range\n",
    "X = np.arange(-6,6,0.01)\n",
    "\n",
    "#Create the normal distribution for the range\n",
    "Y = stats.norm.pdf(X,mean,std)\n",
    "\n",
    "#Plot\n",
    "plt.plot(X,Y)"
   ]
  },
  {
   "cell_type": "code",
   "execution_count": 10,
   "metadata": {},
   "outputs": [],
   "source": [
    "#Set the mean and the standard deviaiton\n",
    "mu,sigma = 0,0.1\n",
    "\n",
    "# Now grab 1000 random numbers from the normal distribution\n",
    "norm_set = np.random.normal(mu,sigma,1000)"
   ]
  },
  {
   "cell_type": "code",
   "execution_count": 11,
   "metadata": {},
   "outputs": [
    {
     "data": {
      "text/plain": [
       "(array([ 1.,  0.,  1.,  0.,  0.,  0.,  0.,  1.,  0.,  0.,  0.,  0.,  2.,\n",
       "         2.,  3.,  2.,  0.,  2.,  4.,  4.,  2.,  2.,  1.,  6., 11., 12.,\n",
       "         9., 11., 10.,  8., 11., 18., 18., 13., 22., 21., 19., 15., 28.,\n",
       "        28., 30., 25., 23., 11., 35., 29., 34., 27., 31., 26., 23., 28.,\n",
       "        28., 35., 29., 25., 25., 19., 29., 20., 25., 17., 21., 12., 16.,\n",
       "        11.,  8., 16., 12.,  6.,  7.,  3.,  5.,  3.,  6.,  3.,  0.,  1.,\n",
       "         1.,  1.,  3.,  1.,  0.,  1.,  0.,  0.,  0.,  0.,  1.,  0.,  0.,\n",
       "         0.,  0.,  0.,  0.,  0.,  0.,  0.,  0.,  1.]),\n",
       " array([-3.59886864e-01, -3.52393700e-01, -3.44900536e-01, -3.37407373e-01,\n",
       "        -3.29914209e-01, -3.22421045e-01, -3.14927881e-01, -3.07434718e-01,\n",
       "        -2.99941554e-01, -2.92448390e-01, -2.84955226e-01, -2.77462063e-01,\n",
       "        -2.69968899e-01, -2.62475735e-01, -2.54982571e-01, -2.47489408e-01,\n",
       "        -2.39996244e-01, -2.32503080e-01, -2.25009917e-01, -2.17516753e-01,\n",
       "        -2.10023589e-01, -2.02530425e-01, -1.95037262e-01, -1.87544098e-01,\n",
       "        -1.80050934e-01, -1.72557770e-01, -1.65064607e-01, -1.57571443e-01,\n",
       "        -1.50078279e-01, -1.42585115e-01, -1.35091952e-01, -1.27598788e-01,\n",
       "        -1.20105624e-01, -1.12612460e-01, -1.05119297e-01, -9.76261329e-02,\n",
       "        -9.01329691e-02, -8.26398054e-02, -7.51466416e-02, -6.76534779e-02,\n",
       "        -6.01603141e-02, -5.26671504e-02, -4.51739867e-02, -3.76808229e-02,\n",
       "        -3.01876592e-02, -2.26944954e-02, -1.52013317e-02, -7.70816794e-03,\n",
       "        -2.15004192e-04,  7.27815955e-03,  1.47713233e-02,  2.22644870e-02,\n",
       "         2.97576508e-02,  3.72508145e-02,  4.47439783e-02,  5.22371420e-02,\n",
       "         5.97303058e-02,  6.72234695e-02,  7.47166332e-02,  8.22097970e-02,\n",
       "         8.97029607e-02,  9.71961245e-02,  1.04689288e-01,  1.12182452e-01,\n",
       "         1.19675616e-01,  1.27168779e-01,  1.34661943e-01,  1.42155107e-01,\n",
       "         1.49648271e-01,  1.57141434e-01,  1.64634598e-01,  1.72127762e-01,\n",
       "         1.79620926e-01,  1.87114089e-01,  1.94607253e-01,  2.02100417e-01,\n",
       "         2.09593581e-01,  2.17086744e-01,  2.24579908e-01,  2.32073072e-01,\n",
       "         2.39566236e-01,  2.47059399e-01,  2.54552563e-01,  2.62045727e-01,\n",
       "         2.69538891e-01,  2.77032054e-01,  2.84525218e-01,  2.92018382e-01,\n",
       "         2.99511546e-01,  3.07004709e-01,  3.14497873e-01,  3.21991037e-01,\n",
       "         3.29484201e-01,  3.36977364e-01,  3.44470528e-01,  3.51963692e-01,\n",
       "         3.59456856e-01,  3.66950019e-01,  3.74443183e-01,  3.81936347e-01,\n",
       "         3.89429510e-01]),\n",
       " <a list of 100 Patch objects>)"
      ]
     },
     "execution_count": 11,
     "metadata": {},
     "output_type": "execute_result"
    },
    {
     "data": {
      "image/png": "[encoded data removed]",
      "text/plain": [
       "<Figure size 432x288 with 1 Axes>"
      ]
     },
     "metadata": {
      "needs_background": "light"
     },
     "output_type": "display_data"
    }
   ],
   "source": [
    "#Now let's plot it using seaborn\n",
    "\n",
    "import seaborn as sns\n",
    "\n",
    "plt.hist(norm_set,bins=100)"
   ]
  },
  {
   "cell_type": "code",
   "execution_count": null,
   "metadata": {},
   "outputs": [],
   "source": []
  }
 ],
 "metadata": {
  "kernelspec": {
   "display_name": "Python 2",
   "language": "python",
   "name": "python2"
  },
  "language_info": {
   "codemirror_mode": {
    "name": "ipython",
    "version": 2
   },
   "file_extension": ".py",
   "mimetype": "text/x-python",
   "name": "python",
   "nbconvert_exporter": "python",
   "pygments_lexer": "ipython2",
   "version": "2.7.16"
  }
 },
 "nbformat": 4,
 "nbformat_minor": 2
}
