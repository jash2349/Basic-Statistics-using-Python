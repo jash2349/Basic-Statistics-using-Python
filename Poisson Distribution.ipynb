{
 "cells": [
  {
   "cell_type": "code",
   "execution_count": 1,
   "metadata": {},
   "outputs": [],
   "source": [
    "# A poisson distribution focuses on the number of discrete events or occurrences over a specified interval or continuum \n",
    "# (e.g. time,length,distance,etc.). \n",
    "\n",
    "# Formal Definition: A discrete random variable X has a Poisson distribution with parameter λ if for k=0,1,2.., \n",
    "# then the probability mass function of X is given by:\n",
    "\n",
    "# Pr(X=k) = (λ^k * e^(−λ) )/ k!\n",
    "\n",
    "# Where e is Euler's number (e=2.718...) and k! is the factorial of k.\n",
    "\n",
    "#The Poisson Distribution has the following characteristics:\n",
    "\n",
    "#1.) Discrete outcomes (x=0,1,2,3...)\n",
    "#2.) The number of occurrences can range from zero to infinity (theoretically). \n",
    "#3.) It describes the distribution of infrequent (rare) events.\n",
    "#4.) Each event is independent of the other events.\n",
    "#5.) Describes discrete events over an interval such as a time or distance.\n",
    "#6.) The expected number of occurrences E(X) are assumed to be constant throughout the experiment."
   ]
  },
  {
   "cell_type": "code",
   "execution_count": 2,
   "metadata": {},
   "outputs": [],
   "source": [
    "#Let's say a McDonald's has a lunch rush from 12:30pm to 1:00pm. \n",
    "#From looking at customer sales from previous days, we know that on average 10 customers enter during 12:30pm to 1:00pm. \n",
    "#What is the probability that exactly 8 customers enter during lunch rush? \n",
    "#What is the probability that more than 10 customers arrive?\n",
    "\n",
    "#Let's begin by thinking about how many customers we expect to come into McDonald's during lunch rush. \n",
    "#Well we were actually already given that information, it's 10. \n",
    "#This means that the mean is 10, then our expected value E(X)=10. In the Poisson distribution this is λ. \n",
    "#So the mean = λ for a Poisson Distribution, it is the expected number of occurences over the specfied interval.\n",
    "\n",
    "#So since we now know what λ is, we can plug the information into the probability mass function and get an answer, \n",
    "\n",
    "#What is the probability that exactly 8 customers enter during lunch rush?"
   ]
  },
  {
   "cell_type": "code",
   "execution_count": 4,
   "metadata": {},
   "outputs": [
    {
     "name": "stdout",
     "output_type": "stream",
     "text": [
      " There is a 11.26 % chance that exactly 8 customers show up at the lunch rush\n"
     ]
    }
   ],
   "source": [
    "# Note do not use lambda as an object name in python! It is already used for special lambda functions in Python!!\n",
    "\n",
    "# Set lambda\n",
    "lamb = 10\n",
    "\n",
    "# Set k to the number of occurences\n",
    "k=8\n",
    "\n",
    "#Set up e and factorial math statements\n",
    "from math import exp\n",
    "from math import factorial\n",
    "from __future__ import division\n",
    "\n",
    "# Now put the probability mass function\n",
    "prob = (lamb**k)*exp(-lamb)/factorial(k)\n",
    "\n",
    "# Put into percentage form and print answer\n",
    "print ' There is a %2.2f %% chance that exactly 8 customers show up at the lunch rush' %(100*prob)"
   ]
  },
  {
   "cell_type": "code",
   "execution_count": 6,
   "metadata": {},
   "outputs": [
    {
     "name": "stdout",
     "output_type": "stream",
     "text": [
      "There is a 11.26 % chance that exactly 7 customers show up at the lunch rush\n",
      "The mean is 10.00 \n"
     ]
    }
   ],
   "source": [
    "# Import the dsitrubtion from scipy.stats\n",
    "from scipy.stats import poisson\n",
    "\n",
    "# Set our mean = 10 customers for the lunch rush\n",
    "mu = 10\n",
    "\n",
    "# Then we can get the mean and variance\n",
    "mean,var = poisson.stats(mu)\n",
    "\n",
    "# We can also calculate the PMF at specific points, such as the odds of exactly 7 customers\n",
    "odds_eight = poisson.pmf(8,mu)\n",
    "\n",
    "#Print\n",
    "print 'There is a %2.2f %% chance that exactly 7 customers show up at the lunch rush' %(100*odds_eight)\n",
    "\n",
    "# Print the mean\n",
    "print 'The mean is %2.2f ' %mean"
   ]
  },
  {
   "cell_type": "code",
   "execution_count": 7,
   "metadata": {},
   "outputs": [],
   "source": [
    "# Question 2: What is the probability that more than 10 customers arrive?"
   ]
  },
  {
   "cell_type": "code",
   "execution_count": 8,
   "metadata": {},
   "outputs": [],
   "source": [
    "# Now let's get the PMF and plot it\n",
    "\n",
    "# First the PMF\n",
    "import numpy as np\n",
    "\n",
    "# Let's see the PMF for all the way to 40 customers, remember theoretically an infinite number of customers could show up.\n",
    "k=np.arange(40)\n",
    "\n",
    "# Average of 10 customers for the time interval\n",
    "lamb = 10\n",
    "\n",
    "#The PMF we'll use to plot\n",
    "pmf_pois = poisson.pmf(k,lamb)"
   ]
  },
  {
   "cell_type": "code",
   "execution_count": 9,
   "metadata": {},
   "outputs": [
    {
     "data": {
      "text/plain": [
       "<BarContainer object of 40 artists>"
      ]
     },
     "execution_count": 9,
     "metadata": {},
     "output_type": "execute_result"
    },
    {
     "data": {
      "image/png": "[encoded data removed]",
      "text/plain": [
       "<Figure size 432x288 with 1 Axes>"
      ]
     },
     "metadata": {
      "needs_background": "light"
     },
     "output_type": "display_data"
    }
   ],
   "source": [
    "# We can now plot it simply by\n",
    "import matplotlib.pyplot as plt\n",
    "import seaborn as sns\n",
    "%matplotlib inline\n",
    "\n",
    "#Simply call a barplot\n",
    "plt.bar(k,pmf_pois)"
   ]
  },
  {
   "cell_type": "code",
   "execution_count": 10,
   "metadata": {},
   "outputs": [],
   "source": [
    "#For the question: What is the probability that more than 10 customers arrive? \n",
    "#We need to sum up the value of every bar past the 10 customers bar.\n",
    "\n",
    "#We can do this by using a Cumulative Distribution Function (CDF). \n",
    "#This describes the probability that a random variable X with a given probability distribution \n",
    "#(such as the Poisson in this current case) will be found to have a value less than or equal to X.\n",
    "\n",
    "#What this means is if we use the CDF to calculate the probability of 10 or less customers showing up \n",
    "#we can take that probability and subtract it from the total probability space, \n",
    "#which is just 1 (the sum of all the probabilities for every number of customers)."
   ]
  },
  {
   "cell_type": "code",
   "execution_count": 11,
   "metadata": {},
   "outputs": [
    {
     "name": "stdout",
     "output_type": "stream",
     "text": [
      "The probability that 10 or less customers show up is 58.3 %.\n"
     ]
    }
   ],
   "source": [
    "# scipy has a built in cdf we can use\n",
    "\n",
    "# Set out k = 10 for ten customers, set mean = 10 for the average of ten customers during lunch rush.\n",
    "k,mu = 10,10\n",
    "\n",
    "# The probability that 10 or less customers show up is:\n",
    "prob_up_to_ten = poisson.cdf(k,mu)\n",
    "\n",
    "#print\n",
    "print 'The probability that 10 or less customers show up is %2.1f %%.' %(100*prob_up_to_ten)"
   ]
  },
  {
   "cell_type": "code",
   "execution_count": 14,
   "metadata": {},
   "outputs": [
    {
     "name": "stdout",
     "output_type": "stream",
     "text": [
      "The probability that more than ten customers show up during lunch rush is 41.7 %.\n"
     ]
    }
   ],
   "source": [
    "# We can answer the question for more than 10 customers. It will be the remaining probability space\n",
    "\n",
    "prob_more_than_ten = 1 - prob_up_to_ten\n",
    "\n",
    "print 'The probability that more than ten customers show up during lunch rush is %2.1f %%.' %(100*prob_more_than_ten)"
   ]
  },
  {
   "cell_type": "code",
   "execution_count": null,
   "metadata": {},
   "outputs": [],
   "source": []
  }
 ],
 "metadata": {
  "kernelspec": {
   "display_name": "Python 2",
   "language": "python",
   "name": "python2"
  },
  "language_info": {
   "codemirror_mode": {
    "name": "ipython",
    "version": 2
   },
   "file_extension": ".py",
   "mimetype": "text/x-python",
   "name": "python",
   "nbconvert_exporter": "python",
   "pygments_lexer": "ipython2",
   "version": "2.7.16"
  }
 },
 "nbformat": 4,
 "nbformat_minor": 2
}
